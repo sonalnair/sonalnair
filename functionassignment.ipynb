{
  "nbformat": 4,
  "nbformat_minor": 0,
  "metadata": {
    "colab": {
      "provenance": [],
      "authorship_tag": "ABX9TyOQEEKVAvc/gibk591PCDqi",
      "include_colab_link": true
    },
    "kernelspec": {
      "name": "python3",
      "display_name": "Python 3"
    },
    "language_info": {
      "name": "python"
    }
  },
  "cells": [
    {
      "cell_type": "markdown",
      "metadata": {
        "id": "view-in-github",
        "colab_type": "text"
      },
      "source": [
        "<a href=\"https://colab.research.google.com/github/sonalnair/sonalnair/blob/main/functionassignment.ipynb\" target=\"_parent\"><img src=\"https://colab.research.google.com/assets/colab-badge.svg\" alt=\"Open In Colab\"/></a>"
      ]
    },
    {
      "cell_type": "code",
      "execution_count": null,
      "metadata": {
        "id": "_Y8TNoqiMKHV"
      },
      "outputs": [],
      "source": [
        "#Write a Python function that takes a list of numbers as input and returns the sum of all even numbers in the list"
      ]
    },
    {
      "cell_type": "code",
      "source": [
        "def sum_even_numbers(numbers):\n",
        "    sum_even = 0\n",
        "    for num in numbers:\n",
        "        if num % 2 == 0:\n",
        "            sum_even += num\n",
        "    return sum_even\n",
        "\n",
        "# Example usage:\n",
        "input_list = [1, 2, 3, 4, 5, 6, 7, 8, 9, 10]\n",
        "result = sum_even_numbers(input_list)\n",
        "print(f\"The sum of even numbers in the list is: {result}\")"
      ],
      "metadata": {
        "colab": {
          "base_uri": "https://localhost:8080/"
        },
        "id": "X8hr3d3HMPts",
        "outputId": "e753e4f5-a215-45f8-b6cb-f042d7485a93"
      },
      "execution_count": null,
      "outputs": [
        {
          "output_type": "stream",
          "name": "stdout",
          "text": [
            "The sum of even numbers in the list is: 30\n"
          ]
        }
      ]
    },
    {
      "cell_type": "code",
      "source": [
        "#Create a Python function that accepts a string and returns the reverse of that string."
      ],
      "metadata": {
        "id": "xhNb7gkKP373"
      },
      "execution_count": null,
      "outputs": []
    },
    {
      "cell_type": "code",
      "source": [
        "def reverse_string(string):\n",
        "  \"\"\"Reverses the order of characters in a string.\n",
        "\n",
        "  Args:\n",
        "    string: The string to reverse.\n",
        "\n",
        "  Returns:\n",
        "    A new string with the characters in reverse order.\n",
        "  \"\"\"\n",
        "\n",
        "  reversed_string = \"\"\n",
        "  for i in range(len(string) - 1, -1, -1):\n",
        "    reversed_string += string[i]\n",
        "  return reversed_string\n",
        "\n",
        "\n",
        "\n",
        "\n",
        "string = \"Hello, world!\"\n",
        "reversed_string = reverse_string(string)\n",
        "print(reversed_string)"
      ],
      "metadata": {
        "colab": {
          "base_uri": "https://localhost:8080/"
        },
        "id": "tpIToQ4c6FkT",
        "outputId": "0c4fae9e-f155-4306-8aca-b6c7f766249f"
      },
      "execution_count": null,
      "outputs": [
        {
          "output_type": "stream",
          "name": "stdout",
          "text": [
            "!dlrow ,olleH\n"
          ]
        }
      ]
    },
    {
      "cell_type": "code",
      "source": [
        "#Implement a Python function that takes a list of integers and returns a new list containing the squares of each number."
      ],
      "metadata": {
        "id": "k9FpyNJu6Hes"
      },
      "execution_count": null,
      "outputs": []
    },
    {
      "cell_type": "code",
      "source": [
        "def square_list(numbers):\n",
        "    squared_numbers = [num ** 2 for num in numbers]\n",
        "    return squared_numbers\n",
        "\n",
        "# Example usage:\n",
        "input_list = [1, 2, 3, 4, 5]\n",
        "squared_list = square_list(input_list)\n",
        "print(squared_list)"
      ],
      "metadata": {
        "colab": {
          "base_uri": "https://localhost:8080/"
        },
        "id": "EzRKRAH26HRL",
        "outputId": "eb1cede1-9dcd-4b41-bffc-970ed680e4b1"
      },
      "execution_count": null,
      "outputs": [
        {
          "output_type": "stream",
          "name": "stdout",
          "text": [
            "[1, 4, 9, 16, 25]\n"
          ]
        }
      ]
    },
    {
      "cell_type": "code",
      "source": [
        "#Write a Python function that checks if a given number is prime or not from 1 to 200"
      ],
      "metadata": {
        "id": "R4YnUL7c6HBy"
      },
      "execution_count": null,
      "outputs": []
    },
    {
      "cell_type": "code",
      "source": [
        "def is_prime(num):\n",
        "    # Handle special cases\n",
        "    if num <= 1:\n",
        "        return False\n",
        "    if num == 2:\n",
        "        return True  # 2 is the smallest and only even prime number\n",
        "\n",
        "    # Check for even numbers greater than 2\n",
        "    if num % 2 == 0:\n",
        "        return False\n",
        "\n",
        "    # Check divisibility from 3 up to the square root of num\n",
        "    sqrt_num = int(num**0.5) + 1\n",
        "    for i in range(3, sqrt_num, 2):\n",
        "        if num % i == 0:\n",
        "            return False\n",
        "\n",
        "    return True\n",
        "# Test the function for numbers from 1 to 200\n",
        "for num in range(1, 201):\n",
        "    if is_prime(num):\n",
        "        print(f\"{num} is prime\")\n",
        "    else:\n",
        "        print(f\"{num} is not prime\")\n"
      ],
      "metadata": {
        "colab": {
          "base_uri": "https://localhost:8080/"
        },
        "id": "Ba3_DRV3_OLB",
        "outputId": "ea8e3f1e-3e06-47f6-e450-ec4d4326ec75"
      },
      "execution_count": null,
      "outputs": [
        {
          "output_type": "stream",
          "name": "stdout",
          "text": [
            "1 is not prime\n",
            "2 is prime\n",
            "3 is prime\n",
            "4 is not prime\n",
            "5 is prime\n",
            "6 is not prime\n",
            "7 is prime\n",
            "8 is not prime\n",
            "9 is not prime\n",
            "10 is not prime\n",
            "11 is prime\n",
            "12 is not prime\n",
            "13 is prime\n",
            "14 is not prime\n",
            "15 is not prime\n",
            "16 is not prime\n",
            "17 is prime\n",
            "18 is not prime\n",
            "19 is prime\n",
            "20 is not prime\n",
            "21 is not prime\n",
            "22 is not prime\n",
            "23 is prime\n",
            "24 is not prime\n",
            "25 is not prime\n",
            "26 is not prime\n",
            "27 is not prime\n",
            "28 is not prime\n",
            "29 is prime\n",
            "30 is not prime\n",
            "31 is prime\n",
            "32 is not prime\n",
            "33 is not prime\n",
            "34 is not prime\n",
            "35 is not prime\n",
            "36 is not prime\n",
            "37 is prime\n",
            "38 is not prime\n",
            "39 is not prime\n",
            "40 is not prime\n",
            "41 is prime\n",
            "42 is not prime\n",
            "43 is prime\n",
            "44 is not prime\n",
            "45 is not prime\n",
            "46 is not prime\n",
            "47 is prime\n",
            "48 is not prime\n",
            "49 is not prime\n",
            "50 is not prime\n",
            "51 is not prime\n",
            "52 is not prime\n",
            "53 is prime\n",
            "54 is not prime\n",
            "55 is not prime\n",
            "56 is not prime\n",
            "57 is not prime\n",
            "58 is not prime\n",
            "59 is prime\n",
            "60 is not prime\n",
            "61 is prime\n",
            "62 is not prime\n",
            "63 is not prime\n",
            "64 is not prime\n",
            "65 is not prime\n",
            "66 is not prime\n",
            "67 is prime\n",
            "68 is not prime\n",
            "69 is not prime\n",
            "70 is not prime\n",
            "71 is prime\n",
            "72 is not prime\n",
            "73 is prime\n",
            "74 is not prime\n",
            "75 is not prime\n",
            "76 is not prime\n",
            "77 is not prime\n",
            "78 is not prime\n",
            "79 is prime\n",
            "80 is not prime\n",
            "81 is not prime\n",
            "82 is not prime\n",
            "83 is prime\n",
            "84 is not prime\n",
            "85 is not prime\n",
            "86 is not prime\n",
            "87 is not prime\n",
            "88 is not prime\n",
            "89 is prime\n",
            "90 is not prime\n",
            "91 is not prime\n",
            "92 is not prime\n",
            "93 is not prime\n",
            "94 is not prime\n",
            "95 is not prime\n",
            "96 is not prime\n",
            "97 is prime\n",
            "98 is not prime\n",
            "99 is not prime\n",
            "100 is not prime\n",
            "101 is prime\n",
            "102 is not prime\n",
            "103 is prime\n",
            "104 is not prime\n",
            "105 is not prime\n",
            "106 is not prime\n",
            "107 is prime\n",
            "108 is not prime\n",
            "109 is prime\n",
            "110 is not prime\n",
            "111 is not prime\n",
            "112 is not prime\n",
            "113 is prime\n",
            "114 is not prime\n",
            "115 is not prime\n",
            "116 is not prime\n",
            "117 is not prime\n",
            "118 is not prime\n",
            "119 is not prime\n",
            "120 is not prime\n",
            "121 is not prime\n",
            "122 is not prime\n",
            "123 is not prime\n",
            "124 is not prime\n",
            "125 is not prime\n",
            "126 is not prime\n",
            "127 is prime\n",
            "128 is not prime\n",
            "129 is not prime\n",
            "130 is not prime\n",
            "131 is prime\n",
            "132 is not prime\n",
            "133 is not prime\n",
            "134 is not prime\n",
            "135 is not prime\n",
            "136 is not prime\n",
            "137 is prime\n",
            "138 is not prime\n",
            "139 is prime\n",
            "140 is not prime\n",
            "141 is not prime\n",
            "142 is not prime\n",
            "143 is not prime\n",
            "144 is not prime\n",
            "145 is not prime\n",
            "146 is not prime\n",
            "147 is not prime\n",
            "148 is not prime\n",
            "149 is prime\n",
            "150 is not prime\n",
            "151 is prime\n",
            "152 is not prime\n",
            "153 is not prime\n",
            "154 is not prime\n",
            "155 is not prime\n",
            "156 is not prime\n",
            "157 is prime\n",
            "158 is not prime\n",
            "159 is not prime\n",
            "160 is not prime\n",
            "161 is not prime\n",
            "162 is not prime\n",
            "163 is prime\n",
            "164 is not prime\n",
            "165 is not prime\n",
            "166 is not prime\n",
            "167 is prime\n",
            "168 is not prime\n",
            "169 is not prime\n",
            "170 is not prime\n",
            "171 is not prime\n",
            "172 is not prime\n",
            "173 is prime\n",
            "174 is not prime\n",
            "175 is not prime\n",
            "176 is not prime\n",
            "177 is not prime\n",
            "178 is not prime\n",
            "179 is prime\n",
            "180 is not prime\n",
            "181 is prime\n",
            "182 is not prime\n",
            "183 is not prime\n",
            "184 is not prime\n",
            "185 is not prime\n",
            "186 is not prime\n",
            "187 is not prime\n",
            "188 is not prime\n",
            "189 is not prime\n",
            "190 is not prime\n",
            "191 is prime\n",
            "192 is not prime\n",
            "193 is prime\n",
            "194 is not prime\n",
            "195 is not prime\n",
            "196 is not prime\n",
            "197 is prime\n",
            "198 is not prime\n",
            "199 is prime\n",
            "200 is not prime\n"
          ]
        }
      ]
    },
    {
      "cell_type": "code",
      "source": [
        "#Create an iterator class in Python that generates the Fibonacci sequence up to a specified number of terms."
      ],
      "metadata": {
        "id": "mwVIucDT_ODp"
      },
      "execution_count": null,
      "outputs": []
    },
    {
      "cell_type": "code",
      "source": [
        "class FibonacciIterator:\n",
        "    def __init__(self, n_terms):\n",
        "        self.n_terms = n_terms\n",
        "        self.current_index = 0\n",
        "        self.a, self.b = 0, 1\n",
        "\n",
        "    def __iter__(self):\n",
        "        return self\n",
        "\n",
        "    def __next__(self):\n",
        "        if self.current_index < self.n_terms:\n",
        "            if self.current_index == 0:\n",
        "                self.current_index += 1\n",
        "                return self.a\n",
        "            elif self.current_index == 1:\n",
        "                self.current_index += 1\n",
        "                return self.b\n",
        "            else:\n",
        "                self.current_index += 1\n",
        "                self.a, self.b = self.b, self.a + self.b\n",
        "                return self.b\n",
        "        else:\n",
        "            raise StopIteration\n",
        "\n",
        "# Example usage\n",
        "n = 10  # Number of terms in the Fibonacci sequence\n",
        "fib_iter = FibonacciIterator(n)\n",
        "\n",
        "for fib in fib_iter:\n",
        "    print(fib)"
      ],
      "metadata": {
        "colab": {
          "base_uri": "https://localhost:8080/"
        },
        "id": "ijoMdMgc_N6y",
        "outputId": "ffad8b28-5ff7-4e57-e29a-1e24fe4c9fb4"
      },
      "execution_count": null,
      "outputs": [
        {
          "output_type": "stream",
          "name": "stdout",
          "text": [
            "0\n",
            "1\n",
            "1\n",
            "2\n",
            "3\n",
            "5\n",
            "8\n",
            "13\n",
            "21\n",
            "34\n"
          ]
        }
      ]
    },
    {
      "cell_type": "code",
      "source": [
        "#Write a generator function in Python that yields the powers of 2 up to a given exponent."
      ],
      "metadata": {
        "id": "ypSlzzclAykP"
      },
      "execution_count": null,
      "outputs": []
    },
    {
      "cell_type": "code",
      "source": [
        "def powers_of_two(max_exponent):\n",
        "    exponent = 0\n",
        "    while exponent <= max_exponent:\n",
        "        yield 2 ** exponent\n",
        "        exponent += 1\n",
        "\n",
        "# Example usage\n",
        "max_exp = 10  # Maximum exponent\n",
        "for power in powers_of_two(max_exp):\n",
        "    print(power)"
      ],
      "metadata": {
        "colab": {
          "base_uri": "https://localhost:8080/"
        },
        "id": "jYSY1gC6A_Bk",
        "outputId": "25ec2fec-3431-4240-d3c7-6b1affea8ecc"
      },
      "execution_count": null,
      "outputs": [
        {
          "output_type": "stream",
          "name": "stdout",
          "text": [
            "1\n",
            "2\n",
            "4\n",
            "8\n",
            "16\n",
            "32\n",
            "64\n",
            "128\n",
            "256\n",
            "512\n",
            "1024\n"
          ]
        }
      ]
    },
    {
      "cell_type": "code",
      "source": [
        "#Implement a generator function that reads a file line by line and yields each line as a string."
      ],
      "metadata": {
        "id": "tKTLNlwpA-7x"
      },
      "execution_count": null,
      "outputs": []
    },
    {
      "cell_type": "code",
      "source": [
        "def read_file_lines(filename):\n",
        "  \"\"\"\n",
        "  This generator function reads a file line by line and yields each line as a string.\n",
        "\n",
        "  Args:\n",
        "      filename: The path to the file to be read.\n",
        "\n",
        "  Yields:\n",
        "      Each line in the file as a string.\n",
        "  \"\"\"\n",
        "  with open(filename, 'r') as file:\n",
        "    for line in file:\n",
        "      yield line.rstrip()\n"
      ],
      "metadata": {
        "id": "Zv3pRWSVA-sy"
      },
      "execution_count": 2,
      "outputs": []
    },
    {
      "cell_type": "code",
      "source": [
        "#Use a lambda function in Python to sort a list of tuples based on the second element of each tuple."
      ],
      "metadata": {
        "id": "X3QcOh_iBsyi"
      },
      "execution_count": null,
      "outputs": []
    },
    {
      "cell_type": "code",
      "source": [
        "# Sample list of tuples\n",
        "tuples_list = [(1, 3), (3, 2), (2, 1), (5, 4)]\n",
        "\n",
        "# Sorting the list of tuples based on the second element\n",
        "sorted_list = sorted(tuples_list, key=lambda x: x[1])\n",
        "\n",
        "# Printing the sorted list\n",
        "print(sorted_list)"
      ],
      "metadata": {
        "colab": {
          "base_uri": "https://localhost:8080/"
        },
        "id": "xzm-lc9pBssq",
        "outputId": "2875100d-3c77-4742-e583-cfb565583b12"
      },
      "execution_count": null,
      "outputs": [
        {
          "output_type": "stream",
          "name": "stdout",
          "text": [
            "[(2, 1), (3, 2), (1, 3), (5, 4)]\n"
          ]
        }
      ]
    },
    {
      "cell_type": "code",
      "source": [
        "#Write a Python program that uses `map()` to convert a list of temperatures from Celsius to Fahrenheit."
      ],
      "metadata": {
        "id": "IWiJ_VR9BsmS"
      },
      "execution_count": null,
      "outputs": []
    },
    {
      "cell_type": "code",
      "source": [
        "# Function to convert Celsius to Fahrenheit\n",
        "def celsius_to_fahrenheit(celsius):\n",
        "    return (celsius * 9/5) + 32\n",
        "\n",
        "# List of temperatures in Celsius\n",
        "celsius_temperatures = [0, 20, 37, 100]\n",
        "\n",
        "# Using map() to convert the list of temperatures to Fahrenheit\n",
        "fahrenheit_temperatures = list(map(celsius_to_fahrenheit, celsius_temperatures))\n",
        "\n",
        "# Printing the converted temperatures\n",
        "print(fahrenheit_temperatures)"
      ],
      "metadata": {
        "colab": {
          "base_uri": "https://localhost:8080/"
        },
        "id": "BIe2V0dKBsgy",
        "outputId": "4a4cd977-e8c2-4724-c321-efb767b31dff"
      },
      "execution_count": null,
      "outputs": [
        {
          "output_type": "stream",
          "name": "stdout",
          "text": [
            "[32.0, 68.0, 98.6, 212.0]\n"
          ]
        }
      ]
    },
    {
      "cell_type": "code",
      "source": [
        "#Create a Python program that uses `filter()` to remove all the vowels from a given string"
      ],
      "metadata": {
        "id": "UkkKS4q2BsaR"
      },
      "execution_count": null,
      "outputs": []
    },
    {
      "cell_type": "code",
      "source": [
        "def remove_vowels(input_string):\n",
        "    vowels = 'aeiouAEIOU'\n",
        "    return ''.join(filter(lambda char: char not in vowels, input_string))\n",
        "\n",
        "# Example input string\n",
        "input_string = \"Hello, World!\"\n",
        "\n",
        "# Removing vowels from the input string\n",
        "result = remove_vowels(input_string)\n",
        "\n",
        "# Printing the result\n",
        "print(result)\n"
      ],
      "metadata": {
        "colab": {
          "base_uri": "https://localhost:8080/"
        },
        "id": "_I9mC1HnCFWy",
        "outputId": "f25436d1-8b27-4b4a-8e1d-9220ed772664"
      },
      "execution_count": null,
      "outputs": [
        {
          "output_type": "stream",
          "name": "stdout",
          "text": [
            "Hll, Wrld!\n"
          ]
        }
      ]
    },
    {
      "cell_type": "code",
      "source": [
        "#11Write a Python program, which returns a list with 2-tuples. Each tuple consists of the order number and the\n",
        "#product of the price per item and the quantity. The product should be increased by 10,- € if the value of the\n",
        "#order is smaller than 100,00 €.\n",
        "#Write a Python program using lambda and map."
      ],
      "metadata": {
        "id": "axeDGmdICFR5"
      },
      "execution_count": null,
      "outputs": []
    },
    {
      "cell_type": "code",
      "source": [
        "# List of book orders\n",
        "orders = [\n",
        "    [34587, \"Learning Python, Mark Lutz\", 4, 40.95],\n",
        "    [98762, \"Programming Python, Mark Lutz\", 5, 56.80],\n",
        "    [77226, \"Head First Python, Paul Barry\", 3, 32.95],\n",
        "    [88112, \"Einführung in Python3, Bernd Klein\", 4, 24.99]\n",
        "]\n",
        "\n",
        "# Function to calculate the total price with additional charge if needed\n",
        "calculate_total_price = lambda order: (order[0], round(order[2] * order[3] + (10 if order[2] * order[3] < 100 else 0), 2))\n",
        "\n",
        "# Applying the function to each order using map\n",
        "order_totals = list(map(calculate_total_price, orders))\n",
        "\n",
        "# Printing the results\n",
        "print(order_totals)\n"
      ],
      "metadata": {
        "colab": {
          "base_uri": "https://localhost:8080/"
        },
        "id": "fHccQcSYCFLa",
        "outputId": "cb0acbdb-2a14-4a65-ec75-8db561e02dcc"
      },
      "execution_count": null,
      "outputs": [
        {
          "output_type": "stream",
          "name": "stdout",
          "text": [
            "[(34587, 163.8), (98762, 284.0), (77226, 108.85), (88112, 109.96)]\n"
          ]
        }
      ]
    },
    {
      "cell_type": "code",
      "source": [],
      "metadata": {
        "id": "mn-xxOcwERjo"
      },
      "execution_count": null,
      "outputs": []
    }
  ]
}